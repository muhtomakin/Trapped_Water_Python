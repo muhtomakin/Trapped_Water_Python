{
 "cells": [
  {
   "cell_type": "code",
   "execution_count": null,
   "id": "74078b6e",
   "metadata": {},
   "outputs": [],
   "source": [
    "l = []\n",
    "trapped_water = 0\n",
    "while True:\n",
    "    x = input(\"Type 'ok' when you are done:\")\n",
    "    if x.lower() == 'ok':\n",
    "        break\n",
    "    else:\n",
    "        l.append(x)\n",
    "left = []\n",
    "right = []\n",
    "max_left = l[0]\n",
    "max_right = l[-1]\n",
    "for i in range(len(l)):\n",
    "    if (max_left<l[i]):\n",
    "        max_left = l[i]\n",
    "        left.append(max_left)\n",
    "    else:\n",
    "        left.append(max_left)\n",
    "l.reverse()\n",
    "for i in range(len(l)):\n",
    "    if (max_right<l[i]):\n",
    "        max_right = l[i]\n",
    "        right.append(max_right)\n",
    "    else:\n",
    "        right.append(max_right)\n",
    "right.reverse()\n",
    "for k in range(len(l)):\n",
    "    height = min(left[k],right[k])\n",
    "    trapped_water = trapped_water + int(height)-int(l[k])\n",
    "print(trapped_water)"
   ]
  }
 ],
 "metadata": {
  "kernelspec": {
   "display_name": "Python 3",
   "language": "python",
   "name": "python3"
  },
  "language_info": {
   "codemirror_mode": {
    "name": "ipython",
    "version": 3
   },
   "file_extension": ".py",
   "mimetype": "text/x-python",
   "name": "python",
   "nbconvert_exporter": "python",
   "pygments_lexer": "ipython3",
   "version": "3.8.8"
  }
 },
 "nbformat": 4,
 "nbformat_minor": 5
}
